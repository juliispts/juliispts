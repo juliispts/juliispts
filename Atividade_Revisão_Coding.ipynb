{
  "nbformat": 4,
  "nbformat_minor": 0,
  "metadata": {
    "colab": {
      "provenance": []
    },
    "kernelspec": {
      "name": "python3",
      "display_name": "Python 3"
    },
    "language_info": {
      "name": "python"
    }
  },
  "cells": [
    {
      "cell_type": "markdown",
      "source": [
        "# **Faculdade Senac**\n",
        "**Curso:** Análise e Desenvolvimento de Sistemas\n",
        "\n",
        "**Período:** 1º\n",
        "\n",
        "**Disciplina:** Coding: Algoritmo e Estrutura de Dados\n",
        "\n",
        "**Professora:** Tereza de Oliveira\n",
        "\n",
        "**Aluna:** Júlia Maria Parra\n",
        "\n",
        "\n",
        "\n",
        "\n",
        "## **Revisão Atividade Avaliativa**\n",
        "\n",
        "\n",
        "\n",
        "\n",
        "\n",
        "\n",
        "\n"
      ],
      "metadata": {
        "id": "PdKMncRFnboM"
      }
    },
    {
      "cell_type": "markdown",
      "source": [
        "*Esta atividade tem como objetivo auxiliar na aprendizagem e compreensão de vários conceitos-chave na programação em Python.*"
      ],
      "metadata": {
        "id": "PnnxjzRZoN3b"
      }
    },
    {
      "cell_type": "markdown",
      "source": [
        "---"
      ],
      "metadata": {
        "id": "7VpOYAmBfOXk"
      }
    },
    {
      "cell_type": "markdown",
      "source": [
        "# 1. Criação de Variáveis"
      ],
      "metadata": {
        "id": "FhNbezmfqDEt"
      }
    },
    {
      "cell_type": "markdown",
      "source": [
        "*uma variável é um nome simbólico que representa um local na memória do computador para armazenar dados. Ela funciona como uma \"caixinha\" que guarda um valor (como números, textos, etc.) que pode ser acessado e alterado durante a execução do programa.*"
      ],
      "metadata": {
        "id": "g2yX4QOivg2F"
      }
    },
    {
      "cell_type": "code",
      "source": [
        "aluna = \"Júlia\"\n",
        "idade = 31\n",
        "matriculada = 'True'"
      ],
      "metadata": {
        "id": "lm0yKKgEqInk"
      },
      "execution_count": null,
      "outputs": []
    },
    {
      "cell_type": "markdown",
      "source": [
        "Foram criadas 3 variáveis com informações sobre uma estudante.\n",
        "\n",
        "As variáveis são do tipo string (nome), int (idade) e booleano (se a aluna está matriculada).\n"
      ],
      "metadata": {
        "id": "LcVHoBvsdhyL"
      }
    },
    {
      "cell_type": "markdown",
      "source": [
        "# 2. Tipos de Dados em Python"
      ],
      "metadata": {
        "id": "2wF4a7c0dqXV"
      }
    },
    {
      "cell_type": "markdown",
      "source": [
        "*Tipos de dados são categorias que classificam os valores, determinando o tipo de informação que uma variável pode armazenar e as operações que podem ser realizadas sobre ela.*"
      ],
      "metadata": {
        "id": "GZvknGN3vRs7"
      }
    },
    {
      "cell_type": "markdown",
      "metadata": {
        "id": "a520ba3f"
      },
      "source": [
        "| Tipo de Dado | Exemplo | Descrição|\n",
        "|---|---|---|\n",
        "|string|  \"João\"|é uma sequência de caracteres usados para armazenar informações textuais.|\n",
        "| int | 452 | é um tipo de dado que armazena números inteiros|\n",
        "| float| 15,8 |é um tipo de dado numérico que armazena números com casas decimais.|\n",
        "|booleano| 'True' | é um tipo de dado que pode ter apenas um de dois valores: verdadeiro (true) ou falso (false)|"
      ]
    },
    {
      "cell_type": "markdown",
      "source": [
        "#3. Operadores Comparativos e Lógicos"
      ],
      "metadata": {
        "id": "vYQ_kafsh-Mj"
      }
    },
    {
      "cell_type": "markdown",
      "source": [
        "*Operadores lógicos e comparativos são a base para tomar decisões em qualquer linguagem de programação.*\n",
        "\n",
        "*Eles permitem que seu programa avalie condições e execute ações diferentes com base no resultado.*\n",
        "\n",
        "*O resultado de qualquer expressão comparativa ou lógica é sempre um valor Booleano: true (verdadeiro) ou false (falso).*"
      ],
      "metadata": {
        "id": "H0YiYF-no935"
      }
    },
    {
      "cell_type": "markdown",
      "source": [
        "###Operadores Comparativos:\n",
        "\n",
        "*   Maior ou igual a **(>=)** *- Verifica se um valor é maior ou igual a outro valor.*\n",
        "*   Menor ou igual a **(<=)** *- Verifica se um valor é menor ou igual a outro valor.*\n",
        "*   Igualdade **(==)** *- Verifica se dois valores são iguais.*\n",
        "*   Diferente de **(!=)** *- Verifica se dois valores são diferentes.*\n",
        "\n",
        "---\n",
        "\n",
        "####Exemplo de usabilidade em um programa:\n",
        "\n",
        "####**Maior ou Igual a (>=)**\n",
        "\n",
        "Variável: idade = 20\n",
        "\n",
        "Expressão: idade >= 18\n",
        "\n",
        "Explicação: Esta expressão avalia se o valor da variável idade (20) é maior ou igual a 18. Como 20 é maior que 18, a expressão inteira resulta em **True**.\n",
        "\n",
        "Usabilidade: Usado em uma estrutura if para verificar permissões.\n",
        "\n",
        "\n"
      ],
      "metadata": {
        "id": "eFEkIxACp2fR"
      }
    },
    {
      "cell_type": "markdown",
      "source": [
        "# **Código:**"
      ],
      "metadata": {
        "id": "yl-HW70XyMX0"
      }
    },
    {
      "cell_type": "code",
      "source": [
        "idade = 20\n",
        "\n",
        "if idade >= 18:\n",
        "    print(\"Acesso permitido.\")\n",
        "else:\n",
        "    print(\"Acesso bloqueado. Você deve ter 18 anos ou mais para acessar este conteúdo.\")"
      ],
      "metadata": {
        "colab": {
          "base_uri": "https://localhost:8080/"
        },
        "id": "Q-buCr1xswJQ",
        "outputId": "8839c3d5-bdb7-46c5-cb88-12197b18f9d9"
      },
      "execution_count": 1,
      "outputs": [
        {
          "output_type": "stream",
          "name": "stdout",
          "text": [
            "Acesso permitido.\n"
          ]
        }
      ]
    },
    {
      "cell_type": "markdown",
      "source": [
        "###Operadores Lógicos:\n",
        "\n",
        "*Combinam ou invertem expressões Booleanas.*\n",
        "\n",
        "*   **AND** (E) *- Só retorna true se AMBAS as condições forem verdadeiras.*\n",
        "*   **OR** (OU) *- Retorna true se PELO MENOS UMA das condições for verdadeira.*\n",
        "*   **NOT** (NÃO) *- Inverte o valor Booleano. NOT true vira false, e NOT false vira true.*\n",
        "\n",
        "---\n",
        "\n",
        "####Exemplo de usabilidade em um programa:\n",
        "\n",
        "####**Operador Lógico OR**\n",
        "\n",
        "Expressão: (tipo_usuario == \"admin\") OR (tipo_usuario == \"moderador\")\n",
        "\n",
        "Explicação: Vamos supor que tipo_usuario seja \"admin\".\n",
        "\n",
        "tipo_usuario == \"admin\" (\"admin\" é igual a \"admin\") -> true\n",
        "\n",
        "tipo_usuario == \"moderador\" (\"admin\" não é igual a \"moderador\" [primeira condição]) -> false A expressão se torna true OR false. Como pelo menos uma parte é true, o resultado final é true.\n",
        "\n",
        "Usabilidade: Usado quando você quer permitir o acesso de um usuário caso ele atenda a qualquer um de vários critérios.\n",
        "\n",
        "\n",
        "\n",
        "\n"
      ],
      "metadata": {
        "id": "q60fHrAnwIbJ"
      }
    },
    {
      "cell_type": "markdown",
      "source": [
        "# **Código:**"
      ],
      "metadata": {
        "id": "UL6o6fvO0yDM"
      }
    },
    {
      "cell_type": "code",
      "source": [
        "tipo_usuario = \"moderador\"\n",
        "\n",
        "if tipo_usuario == \"admin\" or tipo_usuario == \"moderador\":\n",
        "    print(\"Permissão concedida: você pode deletar o comentário.\")\n",
        "else:\n",
        "    print(\"Permissão negada.\")"
      ],
      "metadata": {
        "colab": {
          "base_uri": "https://localhost:8080/"
        },
        "id": "HhwarxXWzUDe",
        "outputId": "b6ec9e16-9517-47d6-f8e4-250f08f6a12b"
      },
      "execution_count": null,
      "outputs": [
        {
          "output_type": "stream",
          "name": "stdout",
          "text": [
            "Permissão concedida: você pode deletar o comentário.\n"
          ]
        }
      ]
    },
    {
      "cell_type": "markdown",
      "source": [
        "#4. *if*, *else*, estrutura *elif*"
      ],
      "metadata": {
        "id": "teq_kXg4ge43"
      }
    },
    {
      "cell_type": "markdown",
      "source": [
        "*São estruturas de controle de fluxo usadas para executar diferentes blocos de código com base em condições lógicas.*"
      ],
      "metadata": {
        "id": "EkJfrSgsh5PP"
      }
    },
    {
      "cell_type": "markdown",
      "source": [
        "\n",
        "\n",
        "*   A estrutura **if** verifica uma condição e executa um bloco de código se for verdadeira.\n",
        "*   O **elif** é usado para verificar condições adicionais caso a anterior seja falsa.\n",
        "*   O **else** executa um bloco de código se nenhuma das condições **if** ou **elif** anteriores for verdadeira *(True)*.\n",
        "\n",
        "\n",
        "\n",
        "\n"
      ],
      "metadata": {
        "id": "trEz89GHiWMP"
      }
    },
    {
      "cell_type": "markdown",
      "source": [
        "# **Código:**"
      ],
      "metadata": {
        "id": "iHrCNQ2xjGa-"
      }
    },
    {
      "cell_type": "markdown",
      "source": [
        "##*if* e *else* :"
      ],
      "metadata": {
        "id": "JhE2Eo0cjZ0J"
      }
    },
    {
      "cell_type": "code",
      "source": [
        "média = 8\n",
        "\n",
        "# Neste algoritmo busca-se classificar alunos de acordo com a média, em\n",
        "# \"Aprovado\" e \"Reprovado\" . Se a média for maior do que 7 (>=7), o aluno é\n",
        "# classificado como \"Aprovado\". Caso a média do aluno não seja >=7, o aluno é\n",
        "# classificado como \"Reprovado\".\n",
        "\n",
        "if média >= 7:\n",
        "    print(\"Aprovado\")\n",
        "else:\n",
        "    print(\"Reprovado\")\n",
        "\n",
        "# Quando a média do aluno é menor do que 7, o bloco if é ignorado e o código\n",
        "# dentro do bloco else é executando, printando \"Reprovado\"."
      ],
      "metadata": {
        "id": "Sl7XxhZmkkh7"
      },
      "execution_count": null,
      "outputs": []
    },
    {
      "cell_type": "markdown",
      "source": [
        "##*elif*"
      ],
      "metadata": {
        "id": "AtjR4UNvnBVH"
      }
    },
    {
      "cell_type": "code",
      "metadata": {
        "colab": {
          "base_uri": "https://localhost:8080/"
        },
        "id": "c3656d98",
        "outputId": "305aced1-f44f-456f-de17-ef3927f8dcb3"
      },
      "source": [
        "nota = 75\n",
        "\n",
        "# Este algoritmo classifica a performance de um aluno com base na sua nota.\n",
        "# Se a nota for maior ou igual a 90, a classificação é \"Excelente\".\n",
        "# Se a nota for maior ou igual a 70 (mas menor que 90), a classificação é \"Bom\".\n",
        "# Caso contrário (se a nota for menor que 70), a classificação é \"Regular\".\n",
        "\n",
        "if nota >= 90:\n",
        "    print(\"Excelente\")\n",
        "elif nota >= 70:\n",
        "    print(\"Bom\")\n",
        "else:\n",
        "    print(\"Regular\")\n",
        "\n",
        "# Neste exemplo, como a nota é 75, a primeira condição (nota >= 90) é falsa.\n",
        "# A segunda condição (nota >= 70) é verdadeira, então o código dentro do\n",
        "# bloco elif é executado, printando \"Bom\". O bloco else é ignorado."
      ],
      "execution_count": 4,
      "outputs": [
        {
          "output_type": "stream",
          "name": "stdout",
          "text": [
            "Bom\n"
          ]
        }
      ]
    },
    {
      "cell_type": "markdown",
      "source": [
        "#5. *Listas e métodos de lista*"
      ],
      "metadata": {
        "id": "-ElmOOWPpmpI"
      }
    },
    {
      "cell_type": "markdown",
      "source": [
        "*Listas são coleções de itens que podem ser manipulados usando vários métodos como:*\n",
        "\n",
        "\n",
        "\n",
        "*    *append() para adicionar um item no final.*\n",
        "*    *insert() para adicionar em um índice específico.*\n",
        "*    *remove() para apagar um item*\n",
        "*    *sort() para ordenar os elementos.*"
      ],
      "metadata": {
        "id": "tK1VY15r0Z7S"
      }
    },
    {
      "cell_type": "code",
      "source": [
        "# Exemplo de lista:\n",
        "\n",
        "lista_frutas = [\"maçã\", \"banana\", \"laranja\", \"uva\"]"
      ],
      "metadata": {
        "id": "ONnpbYvD1Xea"
      },
      "execution_count": 14,
      "outputs": []
    },
    {
      "cell_type": "markdown",
      "source": [
        "##*append()*\n",
        "\n",
        "Adiciona um único elemento ao final da lista. Este método modifica a lista original."
      ],
      "metadata": {
        "id": "sb7kkbTV1hZD"
      }
    },
    {
      "cell_type": "code",
      "source": [
        "lista_frutas.append(\"pêra\")\n",
        "\n",
        "print(lista_frutas)"
      ],
      "metadata": {
        "colab": {
          "base_uri": "https://localhost:8080/"
        },
        "id": "BrjiPG4b1uXd",
        "outputId": "b80aab72-3d6c-4575-dc76-1f6e778a39b9"
      },
      "execution_count": 15,
      "outputs": [
        {
          "output_type": "stream",
          "name": "stdout",
          "text": [
            "['maçã', 'banana', 'laranja', 'uva', 'pêra']\n"
          ]
        }
      ]
    },
    {
      "cell_type": "markdown",
      "source": [
        "##*insert()*\n",
        "\n",
        "Insere um elemento em um índice específico, deslocando os elementos à direita."
      ],
      "metadata": {
        "id": "mwji_YA92RsB"
      }
    },
    {
      "cell_type": "code",
      "source": [
        "lista_frutas.insert(2, \"morango\")\n",
        "\n",
        "print(lista_frutas)"
      ],
      "metadata": {
        "colab": {
          "base_uri": "https://localhost:8080/"
        },
        "id": "LAoF-VR82bND",
        "outputId": "7c051b5d-7f61-48e4-db70-305de8f2bb79"
      },
      "execution_count": 16,
      "outputs": [
        {
          "output_type": "stream",
          "name": "stdout",
          "text": [
            "['maçã', 'banana', 'morango', 'laranja', 'uva', 'pêra']\n"
          ]
        }
      ]
    },
    {
      "cell_type": "markdown",
      "source": [
        "##*remove()*\n",
        "\n",
        "Remove a primeira ocorrência de um elemento especificado. Gera um erro se o elemento não for encontrado."
      ],
      "metadata": {
        "id": "nxSYJpp82vTf"
      }
    },
    {
      "cell_type": "code",
      "source": [
        "lista_frutas.remove(\"laranja\")\n",
        "\n",
        "print(lista_frutas)"
      ],
      "metadata": {
        "colab": {
          "base_uri": "https://localhost:8080/"
        },
        "id": "TqvMKu8J3EbG",
        "outputId": "5c1dd954-4983-4934-f834-46c63b8ea8fc"
      },
      "execution_count": 17,
      "outputs": [
        {
          "output_type": "stream",
          "name": "stdout",
          "text": [
            "['maçã', 'banana', 'morango', 'uva', 'pêra']\n"
          ]
        }
      ]
    },
    {
      "cell_type": "markdown",
      "source": [
        "##*sort()*\n",
        "\n",
        "Ordena os elementos da lista no local (in-place). Pode aceitar argumentos para personalização, como reverse=True para ordem decrescente.\n"
      ],
      "metadata": {
        "id": "OJ5tGeK23aqq"
      }
    },
    {
      "cell_type": "code",
      "source": [
        "lista_frutas.sort(reverse=True)\n",
        "\n",
        "print(lista_frutas)"
      ],
      "metadata": {
        "colab": {
          "base_uri": "https://localhost:8080/"
        },
        "id": "7qEFuREm3mXb",
        "outputId": "413449a7-4f3e-4ca1-fec3-2341b8b200c8"
      },
      "execution_count": 19,
      "outputs": [
        {
          "output_type": "stream",
          "name": "stdout",
          "text": [
            "['uva', 'pêra', 'morango', 'maçã', 'banana']\n"
          ]
        }
      ]
    }
  ]
}